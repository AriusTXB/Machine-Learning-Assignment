{
 "cells": [
  {
   "cell_type": "markdown",
   "metadata": {},
   "source": [
    "Loading dữ liệu đầu vào"
   ]
  },
  {
   "cell_type": "code",
   "execution_count": 75,
   "metadata": {},
   "outputs": [
    {
     "name": "stdout",
     "output_type": "stream",
     "text": [
      "   Unnamed: 0   GAME_ID  SCOREMARGIN  TIME_REMAINING  PERIOD TEAM_1 TEAM_2  \\\n",
      "0           0  22400061            0               0       1    NYK    BOS   \n",
      "1           1  22400061            0               0       1    NYK    BOS   \n",
      "2           2  22400061            3              12       1    NYK    BOS   \n",
      "3           3  22400061            1              33       1    NYK    BOS   \n",
      "4           4  22400061            1              44       1    NYK    BOS   \n",
      "\n",
      "   PLAYER_1.1 PLAYER_1.2          PLAYER_1.3     PLAYER_1.4     PLAYER_1.5  \\\n",
      "0  OG Anunoby  Josh Hart  Karl-Anthony Towns  Mikal Bridges  Jalen Brunson   \n",
      "1  OG Anunoby  Josh Hart  Karl-Anthony Towns  Mikal Bridges  Jalen Brunson   \n",
      "2  OG Anunoby  Josh Hart  Karl-Anthony Towns  Mikal Bridges  Jalen Brunson   \n",
      "3  OG Anunoby  Josh Hart  Karl-Anthony Towns  Mikal Bridges  Jalen Brunson   \n",
      "4  OG Anunoby  Josh Hart  Karl-Anthony Towns  Mikal Bridges  Jalen Brunson   \n",
      "\n",
      "     PLAYER_2.1    PLAYER_2.2  PLAYER_2.3     PLAYER_2.4    PLAYER_2.5  \\\n",
      "0  Jaylen Brown  Jayson Tatum  Al Horford  Derrick White  Jrue Holiday   \n",
      "1  Jaylen Brown  Jayson Tatum  Al Horford  Derrick White  Jrue Holiday   \n",
      "2  Jaylen Brown  Jayson Tatum  Al Horford  Derrick White  Jrue Holiday   \n",
      "3  Jaylen Brown  Jayson Tatum  Al Horford  Derrick White  Jrue Holiday   \n",
      "4  Jaylen Brown  Jayson Tatum  Al Horford  Derrick White  Jrue Holiday   \n",
      "\n",
      "   SCORE_1  SCORE_2 WINNER  \n",
      "0        0        0    BOS  \n",
      "1        0        0    BOS  \n",
      "2        0        3    BOS  \n",
      "3        2        3    BOS  \n",
      "4        2        3    BOS  \n",
      "   Unnamed: 0                   Player TEAM       PPI\n",
      "0           0              Luka Dončić  DAL  2.176800\n",
      "1           1    Giannis Antetokounmpo  MIL  2.015625\n",
      "2           2  Shai Gilgeous-Alexander  OKC  1.994118\n",
      "3           3            Jalen Brunson  NYK  1.720339\n",
      "4           4             Kevin Durant  PHX  1.617473\n"
     ]
    }
   ],
   "source": [
    "import pandas as pd\n",
    "\n",
    "# Load the datasets\n",
    "final_data = pd.read_csv('final_data.csv')\n",
    "ppi_data = pd.read_csv('previous_season_ppi.csv')\n",
    "\n",
    "# Check the first few rows of each dataset\n",
    "print(final_data.head())\n",
    "print(ppi_data.head())\n"
   ]
  },
  {
   "cell_type": "markdown",
   "metadata": {},
   "source": [
    "Dùng Dictionary để map tên cầu thủ và rating"
   ]
  },
  {
   "cell_type": "code",
   "execution_count": 76,
   "metadata": {},
   "outputs": [],
   "source": [
    "# Assuming 'Player Name' and 'Player Rating' are the relevant columns in ppi_data\n",
    "player_rating_map = dict(zip(ppi_data['Player'], ppi_data['PPI']))\n"
   ]
  },
  {
   "cell_type": "markdown",
   "metadata": {},
   "source": [
    "Thay thế các cột tên Player trong Final Data bằng PPI"
   ]
  },
  {
   "cell_type": "code",
   "execution_count": 77,
   "metadata": {},
   "outputs": [],
   "source": [
    "# Identify player columns in final_data\n",
    "player_columns = [col for col in final_data.columns if 'PLAYER' in col]\n",
    "\n",
    "# Replace player names with ratings\n",
    "for col in player_columns:\n",
    "    final_data[col] = final_data[col].map(player_rating_map)\n"
   ]
  },
  {
   "cell_type": "markdown",
   "metadata": {},
   "source": [
    "Thay thế những cột trống bằng rating thấp nhất"
   ]
  },
  {
   "cell_type": "code",
   "execution_count": 78,
   "metadata": {},
   "outputs": [],
   "source": [
    "# Replace missing ratings with a default value, e.g., 0\n",
    "final_data[player_columns] = final_data[player_columns].fillna(0.75)\n"
   ]
  },
  {
   "cell_type": "markdown",
   "metadata": {},
   "source": [
    "Thêm cột để kiểm tra đội 1 thắng hay thua"
   ]
  },
  {
   "cell_type": "code",
   "execution_count": 79,
   "metadata": {},
   "outputs": [],
   "source": [
    "# Add a new column to indicate whether TEAM_1 is the winner\n",
    "final_data['TEAM_1_WIN'] = (final_data['WINNER'] == final_data['TEAM_1']).astype(int)"
   ]
  },
  {
   "cell_type": "markdown",
   "metadata": {},
   "source": [
    "Chuyển dữ liệu dạng Object sang String"
   ]
  },
  {
   "cell_type": "code",
   "execution_count": 80,
   "metadata": {},
   "outputs": [
    {
     "name": "stdout",
     "output_type": "stream",
     "text": [
      "Unnamed: 0          int64\n",
      "GAME_ID             int64\n",
      "SCOREMARGIN         int64\n",
      "TIME_REMAINING      int64\n",
      "PERIOD              int64\n",
      "TEAM_1             object\n",
      "TEAM_2             object\n",
      "PLAYER_1.1        float64\n",
      "PLAYER_1.2        float64\n",
      "PLAYER_1.3        float64\n",
      "PLAYER_1.4        float64\n",
      "PLAYER_1.5        float64\n",
      "PLAYER_2.1        float64\n",
      "PLAYER_2.2        float64\n",
      "PLAYER_2.3        float64\n",
      "PLAYER_2.4        float64\n",
      "PLAYER_2.5        float64\n",
      "SCORE_1             int64\n",
      "SCORE_2             int64\n",
      "WINNER             object\n",
      "TEAM_1_WIN          int32\n",
      "dtype: object\n"
     ]
    }
   ],
   "source": [
    "# Change the data types of WINNER, TEAM_1, and TEAM_2 to string\n",
    "columns_to_convert = ['WINNER', 'TEAM_1', 'TEAM_2']\n",
    "final_data[columns_to_convert] = final_data[columns_to_convert].astype(str)\n",
    "print(final_data.dtypes)"
   ]
  },
  {
   "cell_type": "code",
   "execution_count": 81,
   "metadata": {},
   "outputs": [
    {
     "data": {
      "text/html": [
       "<div>\n",
       "<style scoped>\n",
       "    .dataframe tbody tr th:only-of-type {\n",
       "        vertical-align: middle;\n",
       "    }\n",
       "\n",
       "    .dataframe tbody tr th {\n",
       "        vertical-align: top;\n",
       "    }\n",
       "\n",
       "    .dataframe thead th {\n",
       "        text-align: right;\n",
       "    }\n",
       "</style>\n",
       "<table border=\"1\" class=\"dataframe\">\n",
       "  <thead>\n",
       "    <tr style=\"text-align: right;\">\n",
       "      <th></th>\n",
       "      <th>Unnamed: 0</th>\n",
       "      <th>GAME_ID</th>\n",
       "      <th>SCOREMARGIN</th>\n",
       "      <th>TIME_REMAINING</th>\n",
       "      <th>PERIOD</th>\n",
       "      <th>PLAYER_1.1</th>\n",
       "      <th>PLAYER_1.2</th>\n",
       "      <th>PLAYER_1.3</th>\n",
       "      <th>PLAYER_1.4</th>\n",
       "      <th>PLAYER_1.5</th>\n",
       "      <th>PLAYER_2.1</th>\n",
       "      <th>PLAYER_2.2</th>\n",
       "      <th>PLAYER_2.3</th>\n",
       "      <th>PLAYER_2.4</th>\n",
       "      <th>PLAYER_2.5</th>\n",
       "      <th>SCORE_1</th>\n",
       "      <th>SCORE_2</th>\n",
       "      <th>TEAM_1_WIN</th>\n",
       "    </tr>\n",
       "  </thead>\n",
       "  <tbody>\n",
       "    <tr>\n",
       "      <th>count</th>\n",
       "      <td>124992.000000</td>\n",
       "      <td>1.249920e+05</td>\n",
       "      <td>124992.000000</td>\n",
       "      <td>124992.000000</td>\n",
       "      <td>124992.000000</td>\n",
       "      <td>124992.000000</td>\n",
       "      <td>124992.000000</td>\n",
       "      <td>124992.000000</td>\n",
       "      <td>124992.000000</td>\n",
       "      <td>124992.000000</td>\n",
       "      <td>124992.000000</td>\n",
       "      <td>124992.000000</td>\n",
       "      <td>124992.000000</td>\n",
       "      <td>124992.000000</td>\n",
       "      <td>124992.000000</td>\n",
       "      <td>124992.000000</td>\n",
       "      <td>124992.000000</td>\n",
       "      <td>124992.000000</td>\n",
       "    </tr>\n",
       "    <tr>\n",
       "      <th>mean</th>\n",
       "      <td>62495.500000</td>\n",
       "      <td>2.240015e+07</td>\n",
       "      <td>1.895225</td>\n",
       "      <td>1493.998784</td>\n",
       "      <td>2.544083</td>\n",
       "      <td>1.016992</td>\n",
       "      <td>1.087850</td>\n",
       "      <td>1.225994</td>\n",
       "      <td>1.093347</td>\n",
       "      <td>1.257453</td>\n",
       "      <td>1.021319</td>\n",
       "      <td>1.118920</td>\n",
       "      <td>1.249273</td>\n",
       "      <td>1.075193</td>\n",
       "      <td>1.246124</td>\n",
       "      <td>57.081781</td>\n",
       "      <td>58.977007</td>\n",
       "      <td>0.374840</td>\n",
       "    </tr>\n",
       "    <tr>\n",
       "      <th>std</th>\n",
       "      <td>36082.226761</td>\n",
       "      <td>8.101250e+01</td>\n",
       "      <td>11.004336</td>\n",
       "      <td>847.929976</td>\n",
       "      <td>1.134121</td>\n",
       "      <td>0.282840</td>\n",
       "      <td>0.334376</td>\n",
       "      <td>0.335723</td>\n",
       "      <td>0.280427</td>\n",
       "      <td>0.378461</td>\n",
       "      <td>0.257325</td>\n",
       "      <td>0.356616</td>\n",
       "      <td>0.361722</td>\n",
       "      <td>0.293563</td>\n",
       "      <td>0.396988</td>\n",
       "      <td>33.626362</td>\n",
       "      <td>34.131542</td>\n",
       "      <td>0.484084</td>\n",
       "    </tr>\n",
       "    <tr>\n",
       "      <th>min</th>\n",
       "      <td>0.000000</td>\n",
       "      <td>2.240000e+07</td>\n",
       "      <td>-45.000000</td>\n",
       "      <td>0.000000</td>\n",
       "      <td>1.000000</td>\n",
       "      <td>0.744550</td>\n",
       "      <td>0.744550</td>\n",
       "      <td>0.750000</td>\n",
       "      <td>0.723077</td>\n",
       "      <td>0.750000</td>\n",
       "      <td>0.750000</td>\n",
       "      <td>0.744550</td>\n",
       "      <td>0.750000</td>\n",
       "      <td>0.750000</td>\n",
       "      <td>0.750000</td>\n",
       "      <td>0.000000</td>\n",
       "      <td>0.000000</td>\n",
       "      <td>0.000000</td>\n",
       "    </tr>\n",
       "    <tr>\n",
       "      <th>25%</th>\n",
       "      <td>31247.750000</td>\n",
       "      <td>2.240009e+07</td>\n",
       "      <td>-4.000000</td>\n",
       "      <td>761.000000</td>\n",
       "      <td>2.000000</td>\n",
       "      <td>0.750000</td>\n",
       "      <td>0.750000</td>\n",
       "      <td>0.863158</td>\n",
       "      <td>0.835662</td>\n",
       "      <td>0.889362</td>\n",
       "      <td>0.750000</td>\n",
       "      <td>0.750000</td>\n",
       "      <td>0.863158</td>\n",
       "      <td>0.750000</td>\n",
       "      <td>0.832026</td>\n",
       "      <td>28.000000</td>\n",
       "      <td>30.000000</td>\n",
       "      <td>0.000000</td>\n",
       "    </tr>\n",
       "    <tr>\n",
       "      <th>50%</th>\n",
       "      <td>62495.500000</td>\n",
       "      <td>2.240015e+07</td>\n",
       "      <td>2.000000</td>\n",
       "      <td>1482.000000</td>\n",
       "      <td>3.000000</td>\n",
       "      <td>0.883575</td>\n",
       "      <td>0.992473</td>\n",
       "      <td>1.323711</td>\n",
       "      <td>1.109253</td>\n",
       "      <td>1.270100</td>\n",
       "      <td>0.944681</td>\n",
       "      <td>1.025506</td>\n",
       "      <td>1.323711</td>\n",
       "      <td>1.045087</td>\n",
       "      <td>1.187372</td>\n",
       "      <td>56.000000</td>\n",
       "      <td>58.000000</td>\n",
       "      <td>0.000000</td>\n",
       "    </tr>\n",
       "    <tr>\n",
       "      <th>75%</th>\n",
       "      <td>93743.250000</td>\n",
       "      <td>2.240022e+07</td>\n",
       "      <td>9.000000</td>\n",
       "      <td>2212.250000</td>\n",
       "      <td>4.000000</td>\n",
       "      <td>1.210145</td>\n",
       "      <td>1.357098</td>\n",
       "      <td>1.423529</td>\n",
       "      <td>1.268391</td>\n",
       "      <td>1.542400</td>\n",
       "      <td>1.197318</td>\n",
       "      <td>1.369643</td>\n",
       "      <td>1.506433</td>\n",
       "      <td>1.270100</td>\n",
       "      <td>1.542400</td>\n",
       "      <td>85.000000</td>\n",
       "      <td>87.000000</td>\n",
       "      <td>1.000000</td>\n",
       "    </tr>\n",
       "    <tr>\n",
       "      <th>max</th>\n",
       "      <td>124991.000000</td>\n",
       "      <td>2.240028e+07</td>\n",
       "      <td>41.000000</td>\n",
       "      <td>3600.000000</td>\n",
       "      <td>5.000000</td>\n",
       "      <td>2.015625</td>\n",
       "      <td>2.015625</td>\n",
       "      <td>2.041618</td>\n",
       "      <td>1.707453</td>\n",
       "      <td>2.176800</td>\n",
       "      <td>1.761345</td>\n",
       "      <td>2.015625</td>\n",
       "      <td>2.041618</td>\n",
       "      <td>1.672571</td>\n",
       "      <td>2.176800</td>\n",
       "      <td>145.000000</td>\n",
       "      <td>144.000000</td>\n",
       "      <td>1.000000</td>\n",
       "    </tr>\n",
       "  </tbody>\n",
       "</table>\n",
       "</div>"
      ],
      "text/plain": [
       "          Unnamed: 0       GAME_ID    SCOREMARGIN  TIME_REMAINING  \\\n",
       "count  124992.000000  1.249920e+05  124992.000000   124992.000000   \n",
       "mean    62495.500000  2.240015e+07       1.895225     1493.998784   \n",
       "std     36082.226761  8.101250e+01      11.004336      847.929976   \n",
       "min         0.000000  2.240000e+07     -45.000000        0.000000   \n",
       "25%     31247.750000  2.240009e+07      -4.000000      761.000000   \n",
       "50%     62495.500000  2.240015e+07       2.000000     1482.000000   \n",
       "75%     93743.250000  2.240022e+07       9.000000     2212.250000   \n",
       "max    124991.000000  2.240028e+07      41.000000     3600.000000   \n",
       "\n",
       "              PERIOD     PLAYER_1.1     PLAYER_1.2     PLAYER_1.3  \\\n",
       "count  124992.000000  124992.000000  124992.000000  124992.000000   \n",
       "mean        2.544083       1.016992       1.087850       1.225994   \n",
       "std         1.134121       0.282840       0.334376       0.335723   \n",
       "min         1.000000       0.744550       0.744550       0.750000   \n",
       "25%         2.000000       0.750000       0.750000       0.863158   \n",
       "50%         3.000000       0.883575       0.992473       1.323711   \n",
       "75%         4.000000       1.210145       1.357098       1.423529   \n",
       "max         5.000000       2.015625       2.015625       2.041618   \n",
       "\n",
       "          PLAYER_1.4     PLAYER_1.5     PLAYER_2.1     PLAYER_2.2  \\\n",
       "count  124992.000000  124992.000000  124992.000000  124992.000000   \n",
       "mean        1.093347       1.257453       1.021319       1.118920   \n",
       "std         0.280427       0.378461       0.257325       0.356616   \n",
       "min         0.723077       0.750000       0.750000       0.744550   \n",
       "25%         0.835662       0.889362       0.750000       0.750000   \n",
       "50%         1.109253       1.270100       0.944681       1.025506   \n",
       "75%         1.268391       1.542400       1.197318       1.369643   \n",
       "max         1.707453       2.176800       1.761345       2.015625   \n",
       "\n",
       "          PLAYER_2.3     PLAYER_2.4     PLAYER_2.5        SCORE_1  \\\n",
       "count  124992.000000  124992.000000  124992.000000  124992.000000   \n",
       "mean        1.249273       1.075193       1.246124      57.081781   \n",
       "std         0.361722       0.293563       0.396988      33.626362   \n",
       "min         0.750000       0.750000       0.750000       0.000000   \n",
       "25%         0.863158       0.750000       0.832026      28.000000   \n",
       "50%         1.323711       1.045087       1.187372      56.000000   \n",
       "75%         1.506433       1.270100       1.542400      85.000000   \n",
       "max         2.041618       1.672571       2.176800     145.000000   \n",
       "\n",
       "             SCORE_2     TEAM_1_WIN  \n",
       "count  124992.000000  124992.000000  \n",
       "mean       58.977007       0.374840  \n",
       "std        34.131542       0.484084  \n",
       "min         0.000000       0.000000  \n",
       "25%        30.000000       0.000000  \n",
       "50%        58.000000       0.000000  \n",
       "75%        87.000000       1.000000  \n",
       "max       144.000000       1.000000  "
      ]
     },
     "execution_count": 81,
     "metadata": {},
     "output_type": "execute_result"
    }
   ],
   "source": [
    "final_data.describe()"
   ]
  },
  {
   "cell_type": "markdown",
   "metadata": {},
   "source": [
    "Thử nghiệm XGBoost"
   ]
  },
  {
   "cell_type": "code",
   "execution_count": 89,
   "metadata": {},
   "outputs": [
    {
     "name": "stdout",
     "output_type": "stream",
     "text": [
      "Fitting 3 folds for each of 50 candidates, totalling 150 fits\n",
      "Best Parameters: {'subsample': 0.7, 'n_estimators': 1900, 'max_depth': 20, 'learning_rate': 0.01, 'colsample_bytree': 1.0}\n",
      "Best Score: 0.9995999751820762\n"
     ]
    }
   ],
   "source": [
    "from sklearn.model_selection import RandomizedSearchCV\n",
    "import numpy as np\n",
    "# Import libraries\n",
    "import pandas as pd\n",
    "from sklearn.model_selection import train_test_split\n",
    "from sklearn.preprocessing import LabelEncoder\n",
    "from xgboost import XGBClassifier\n",
    "from sklearn.metrics import accuracy_score, roc_auc_score\n",
    "\n",
    "# Features (X) and Target (y)\n",
    "from sklearn.preprocessing import StandardScaler\n",
    "\n",
    "numerical_cols = ['SCOREMARGIN', 'TIME_REMAINING','PERIOD','PLAYER_1.1','PLAYER_1.2','PLAYER_1.3','PLAYER_1.4','PLAYER_1.5','PLAYER_2.1','PLAYER_2.2','PLAYER_2.3','PLAYER_2.4','PLAYER_2.5']  # Replace with actual numerical feature names\n",
    "scaler = StandardScaler()\n",
    "final_data[numerical_cols] = scaler.fit_transform(final_data[numerical_cols])\n",
    "\n",
    "final_data = final_data.sample(frac=1, random_state=42).reset_index(drop=True)\n",
    "X = final_data.drop(columns=[\"Unnamed: 0\", \"GAME_ID\", \"WINNER\", \"TEAM_1_WIN\"])  # Exclude non-predictive columns\n",
    "y = final_data[\"TEAM_1_WIN\"]\n",
    "\n",
    "# Encode categorical variables\n",
    "categorical_cols = [\"TEAM_1\", \"TEAM_2\"]\n",
    "label_encoders = {}\n",
    "for col in categorical_cols:\n",
    "    le = LabelEncoder()\n",
    "    X[col] = le.fit_transform(X[col])\n",
    "    label_encoders[col] = le\n",
    "\n",
    "# Train-test split\n",
    "X_train, X_test, y_train, y_test = train_test_split(X, y, test_size=0.3, random_state=42, stratify=y)\n",
    "X_train = X_train.sample(frac=1, random_state=42).reset_index(drop=True)\n",
    "y_train = y_train.sample(frac=1, random_state=42).reset_index(drop=True)\n",
    "\n",
    "X_test = X_test.sample(frac=1, random_state=42).reset_index(drop=True)\n",
    "y_test = y_test.sample(frac=1, random_state=42).reset_index(drop=True)\n",
    "# Define the parameter distribution\n",
    "param_dist = {\n",
    "    'n_estimators': np.arange(100, 2000, 100),\n",
    "    'learning_rate': [0.0001, 0.001, 0.01],\n",
    "    'max_depth': [3, 6, 10, 20],\n",
    "    'subsample': [0.7, 0.8, 1.0],\n",
    "    'colsample_bytree': [0.7, 0.8, 1.0]\n",
    "}\n",
    "\n",
    "# Initialize XGBoost model\n",
    "model = XGBClassifier(objective=\"binary:logistic\", eval_metric=\"auc\", random_state=42)\n",
    "\n",
    "# Perform RandomizedSearchCV\n",
    "random_search = RandomizedSearchCV(estimator=model, param_distributions=param_dist, scoring=\"accuracy\", cv=3, n_jobs=-1, verbose=1, n_iter=50)\n",
    "random_search.fit(X_train, y_train)\n",
    "\n",
    "# Get the best parameters and best score\n",
    "print(\"Best Parameters:\", random_search.best_params_)\n",
    "print(\"Best Score:\", random_search.best_score_)\n"
   ]
  },
  {
   "cell_type": "code",
   "execution_count": 92,
   "metadata": {},
   "outputs": [
    {
     "name": "stdout",
     "output_type": "stream",
     "text": [
      "Accuracy: 0.95136\n",
      "AUC Score: 0.99248\n"
     ]
    }
   ],
   "source": [
    "\n",
    "# Train XGBoost model\n",
    "model = XGBClassifier(\n",
    "    objective=\"binary:logistic\",\n",
    "    eval_metric=\"auc\",\n",
    "    n_estimators=1500,\n",
    "    learning_rate=0.0015,\n",
    "    max_depth=6,\n",
    "    random_state=42\n",
    ")\n",
    "model.fit(X_train, y_train)\n",
    "\n",
    "# Predictions\n",
    "y_pred = model.predict(X_test)\n",
    "y_pred_proba = model.predict_proba(X_test)[:, 1]\n",
    "\n",
    "# Evaluate model\n",
    "accuracy = accuracy_score(y_test, y_pred)\n",
    "auc_score = roc_auc_score(y_test, y_pred_proba)\n",
    "\n",
    "print(f\"Accuracy: {accuracy:.5f}\")\n",
    "print(f\"AUC Score: {auc_score:.5f}\")"
   ]
  },
  {
   "cell_type": "markdown",
   "metadata": {},
   "source": [
    "Hyper Parameters"
   ]
  },
  {
   "cell_type": "code",
   "execution_count": null,
   "metadata": {},
   "outputs": [
    {
     "name": "stdout",
     "output_type": "stream",
     "text": [
      "Best Parameters: {'learning_rate': 0.2, 'max_depth': 6, 'n_estimators': 200}\n"
     ]
    }
   ],
   "source": [
    "from sklearn.model_selection import GridSearchCV\n",
    "\n",
    "param_grid = {\n",
    "    'learning_rate': [0.01, 0.1, 0.2],\n",
    "    'max_depth': [4, 6, 8],\n",
    "    'n_estimators': [50, 100, 200]\n",
    "}\n",
    "\n",
    "grid_search = GridSearchCV(estimator=model, param_grid=param_grid, scoring='roc_auc', cv=3)\n",
    "grid_search.fit(X_train, y_train)\n",
    "\n",
    "print(\"Best Parameters:\", grid_search.best_params_)\n"
   ]
  },
  {
   "cell_type": "markdown",
   "metadata": {},
   "source": [
    "Feature Importance"
   ]
  },
  {
   "cell_type": "code",
   "execution_count": null,
   "metadata": {},
   "outputs": [
    {
     "data": {
      "image/png": "[encoded data removed]",
      "text/plain": [
       "<Figure size 640x480 with 1 Axes>"
      ]
     },
     "metadata": {},
     "output_type": "display_data"
    }
   ],
   "source": [
    "import matplotlib.pyplot as plt\n",
    "from xgboost import plot_importance\n",
    "\n",
    "plot_importance(model)\n",
    "plt.show()\n"
   ]
  }
 ],
 "metadata": {
  "kernelspec": {
   "display_name": "Python 3",
   "language": "python",
   "name": "python3"
  },
  "language_info": {
   "codemirror_mode": {
    "name": "ipython",
    "version": 3
   },
   "file_extension": ".py",
   "mimetype": "text/x-python",
   "name": "python",
   "nbconvert_exporter": "python",
   "pygments_lexer": "ipython3",
   "version": "3.12.2"
  }
 },
 "nbformat": 4,
 "nbformat_minor": 2
}
