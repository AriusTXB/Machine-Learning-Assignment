{
 "cells": [
  {
   "cell_type": "markdown",
   "metadata": {},
   "source": [
    "**We’ll use aiohttp for asynchronous HTTP requests, BeautifulSoup for parsing HTML, and csv for saving the data.**"
   ]
  },
  {
   "cell_type": "code",
   "execution_count": 2,
   "metadata": {},
   "outputs": [],
   "source": [
    "from selenium import webdriver\n",
    "from selenium.webdriver.common.by import By\n",
    "from bs4 import BeautifulSoup\n",
    "import time\n",
    "import csv\n",
    "\n",
    "# Set up the Chrome WebDriver (replace the path with where you've stored your chromedriver)\n",
    "driver = webdriver.Chrome()  # Update with your path\n"
   ]
  },
  {
   "cell_type": "markdown",
   "metadata": {},
   "source": [
    "**We need a helper function to convert game time strings (e.g., Q2 10:00) into total elapsed minutes.**"
   ]
  },
  {
   "cell_type": "code",
   "execution_count": 40,
   "metadata": {},
   "outputs": [],
   "source": [
    "def convert_game_time(game_time):\n",
    "    try:\n",
    "        # Split the time string into quarter and minutes\n",
    "        quarter, time_left = game_time.split(\" \")\n",
    "        minutes, seconds = map(int, time_left.split(\":\"))\n",
    "        \n",
    "        # Calculate elapsed time\n",
    "        quarter_num = int(quarter[1:])  # Extract quarter number (e.g., Q2 -> 2)\n",
    "        elapsed_minutes = (quarter_num - 1) * 12 + (12 - minutes)\n",
    "        \n",
    "        return elapsed_minutes\n",
    "    except Exception as e:\n",
    "        print(f\"Error parsing game time: {game_time} - {e}\")\n",
    "        return None\n"
   ]
  },
  {
   "cell_type": "markdown",
   "metadata": {},
   "source": [
    "**Create an asynchronous function to scrape live NBA games.**"
   ]
  },
  {
   "cell_type": "code",
   "execution_count": 41,
   "metadata": {},
   "outputs": [],
   "source": [
    "async def scrape_nba_live_games():\n",
    "    url = \"https://www.nba.com/games\"\n",
    "    headers = {\n",
    "        'User-Agent': 'Mozilla/5.0 (Windows NT 10.0; Win64; x64) AppleWebKit/537.36 (KHTML, like Gecko) Chrome/91.0.4472.124 Safari/537.36'\n",
    "    }\n",
    "    async with aiohttp.ClientSession() as session:\n",
    "        async with session.get(url) as response:\n",
    "            if response.status == 200:\n",
    "                html = await response.text()\n",
    "                print(html)  # Print the HTML response to ensure you're getting the page content\n",
    "                soup = BeautifulSoup(html, 'html.parser')\n",
    "                \n",
    "                # Extract game containers\n",
    "                games = soup.find_all('div', class_='GameCard_gc__container__')\n",
    "                live_games = []\n",
    "                \n",
    "                for game in games:\n",
    "                    try:\n",
    "                        team1 = game.find('div', class_='GameCard_team1__name__').text.strip()\n",
    "                        team2 = game.find('div', class_='GameCard_team2__name__').text.strip()\n",
    "                        score = game.find('div', class_='GameCard_score__').text.strip()\n",
    "                        status = game.find('div', class_='GameCard_status__').text.strip()\n",
    "                        \n",
    "                        # Extract and convert time if available\n",
    "                        time_div = game.find('div', class_='GameCard_time__')\n",
    "                        time_str = time_div.text.strip() if time_div else \"Q1 12:00\"\n",
    "                        elapsed_time = convert_game_time(time_str)\n",
    "                        \n",
    "                        live_games.append({\n",
    "                            'Team 1': team1,\n",
    "                            'Team 2': team2,\n",
    "                            'Score': score,\n",
    "                            'Status': status,\n",
    "                            'Time': elapsed_time\n",
    "                        })\n",
    "                    except AttributeError:\n",
    "                        continue\n",
    "                \n",
    "                return live_games\n",
    "            else:\n",
    "                print(f\"Failed to fetch webpage. HTTP Status: {response.status}\")\n",
    "                return []\n"
   ]
  },
  {
   "cell_type": "markdown",
   "metadata": {},
   "source": [
    "**Write the function to save data into a CSV file, ensuring it works even if no games are occurring.**"
   ]
  },
  {
   "cell_type": "code",
   "execution_count": 42,
   "metadata": {},
   "outputs": [],
   "source": [
    "async def main():\n",
    "    live_games = await scrape_nba_live_games()\n",
    "    \n",
    "    # Ensure the CSV file is created even if no games are found\n",
    "    csv_file = \"C:/Users/Admin/OneDrive/Máy tính/Học tập/2024 - 2025/Kỳ I 2024 - 2025/Machine Learning/Assignment/live_games_with_time.csv\"\n",
    "    with open(csv_file, mode=\"w\", newline=\"\", encoding=\"utf-8\") as file:\n",
    "        writer = csv.DictWriter(file, fieldnames=[\"Team 1\", \"Team 2\", \"Score\", \"Status\", \"Time\"])\n",
    "        writer.writeheader()\n",
    "        if live_games:\n",
    "            writer.writerows(live_games)\n",
    "            print(f\"Data saved to {csv_file}\")\n",
    "        else:\n",
    "            print(\"No games are currently occurring. Empty CSV file created.\")"
   ]
  },
  {
   "cell_type": "code",
   "execution_count": 5,
   "metadata": {},
   "outputs": [
    {
     "ename": "TypeError",
     "evalue": "LeagueGameFinder.__init__() got an unexpected keyword argument 'season'",
     "output_type": "error",
     "traceback": [
      "\u001b[1;31m---------------------------------------------------------------------------\u001b[0m",
      "\u001b[1;31mTypeError\u001b[0m                                 Traceback (most recent call last)",
      "Cell \u001b[1;32mIn[5], line 8\u001b[0m\n\u001b[0;32m      5\u001b[0m season_id \u001b[38;5;241m=\u001b[39m \u001b[38;5;124m\"\u001b[39m\u001b[38;5;124m2024-25\u001b[39m\u001b[38;5;124m\"\u001b[39m\n\u001b[0;32m      7\u001b[0m \u001b[38;5;66;03m# Fetch games for the specified season\u001b[39;00m\n\u001b[1;32m----> 8\u001b[0m games \u001b[38;5;241m=\u001b[39m \u001b[43mleaguegamefinder\u001b[49m\u001b[38;5;241;43m.\u001b[39;49m\u001b[43mLeagueGameFinder\u001b[49m\u001b[43m(\u001b[49m\u001b[43mseason\u001b[49m\u001b[38;5;241;43m=\u001b[39;49m\u001b[43mseason_id\u001b[49m\u001b[43m)\u001b[49m\n\u001b[0;32m     10\u001b[0m \u001b[38;5;66;03m# Get the data as a Pandas DataFrame\u001b[39;00m\n\u001b[0;32m     11\u001b[0m games_df \u001b[38;5;241m=\u001b[39m games\u001b[38;5;241m.\u001b[39mget_data_frames()[\u001b[38;5;241m0\u001b[39m]\n",
      "\u001b[1;31mTypeError\u001b[0m: LeagueGameFinder.__init__() got an unexpected keyword argument 'season'"
     ]
    }
   ],
   "source": [
    "from nba_api.stats.endpoints import leaguegamefinder\n",
    "import pandas as pd\n",
    "\n",
    "# Specify the season (e.g., \"2024-25\" for the current season)\n",
    "season_id = \"2024-25\"\n",
    "\n",
    "# Fetch games for the specified season\n",
    "games = leaguegamefinder.LeagueGameFinder(season=season_id)\n",
    "\n",
    "# Get the data as a Pandas DataFrame\n",
    "games_df = games.get_data_frames()[0]\n",
    "\n",
    "# Display the first few rows of the DataFrame\n",
    "print(games_df.head())\n",
    "\n",
    "# Optionally, save to a CSV file\n",
    "games_df.to_csv('nba_games_2024_25.csv', index=False)\n"
   ]
  }
 ],
 "metadata": {
  "kernelspec": {
   "display_name": "Python 3",
   "language": "python",
   "name": "python3"
  },
  "language_info": {
   "codemirror_mode": {
    "name": "ipython",
    "version": 3
   },
   "file_extension": ".py",
   "mimetype": "text/x-python",
   "name": "python",
   "nbconvert_exporter": "python",
   "pygments_lexer": "ipython3",
   "version": "3.12.2"
  }
 },
 "nbformat": 4,
 "nbformat_minor": 2
}
