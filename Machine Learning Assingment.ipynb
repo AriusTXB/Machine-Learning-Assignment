{
 "cells": [
  {
   "cell_type": "markdown",
   "metadata": {},
   "source": [
    "# Machine Learning Assignment #"
   ]
  },
  {
   "cell_type": "markdown",
   "metadata": {},
   "source": [
    "## Thêm và xử lý dữ liệu huấn luyện, dữ liệu kiểm thử ##"
   ]
  },
  {
   "cell_type": "markdown",
   "metadata": {},
   "source": [
    "### Load các file dữ liệu cần thiết, đưa về dataframe và loại bỏ các cột không có thay đổi quá nhiều để tránh Data Leakage ###"
   ]
  },
  {
   "cell_type": "code",
   "execution_count": 57,
   "metadata": {},
   "outputs": [
    {
     "name": "stdout",
     "output_type": "stream",
     "text": [
      "     GAME_ID  SCOREMARGIN  TIME_REMAINING  PERIOD TEAM_1 TEAM_2  \\\n",
      "0   22400025            0               0       1    OKC    SAS   \n",
      "2   22400025           -2              25       1    OKC    SAS   \n",
      "3   22400025            1              35       1    OKC    SAS   \n",
      "4   22400025           -2              48       1    OKC    SAS   \n",
      "21  22400025            0             172       1    OKC    SAS   \n",
      "\n",
      "       PLAYER_1.1     PLAYER_1.2      PLAYER_1.3     PLAYER_1.4  \\\n",
      "0   Luguentz Dort  Aaron Wiggins  Jalen Williams  Cason Wallace   \n",
      "2   Luguentz Dort  Aaron Wiggins  Jalen Williams  Cason Wallace   \n",
      "3   Luguentz Dort  Aaron Wiggins  Jalen Williams  Cason Wallace   \n",
      "4   Luguentz Dort  Aaron Wiggins  Jalen Williams  Cason Wallace   \n",
      "21  Luguentz Dort  Aaron Wiggins  Jalen Williams  Cason Wallace   \n",
      "\n",
      "                 PLAYER_1.5         PLAYER_2.1       PLAYER_2.2    PLAYER_2.3  \\\n",
      "0   Shai Gilgeous-Alexander  Julian Champagnie  Harrison Barnes  Zach Collins   \n",
      "2   Shai Gilgeous-Alexander  Julian Champagnie  Harrison Barnes  Zach Collins   \n",
      "3   Shai Gilgeous-Alexander  Julian Champagnie  Harrison Barnes  Zach Collins   \n",
      "4   Shai Gilgeous-Alexander  Julian Champagnie  Harrison Barnes  Zach Collins   \n",
      "21  Shai Gilgeous-Alexander  Julian Champagnie  Harrison Barnes  Zach Collins   \n",
      "\n",
      "        PLAYER_2.4  PLAYER_2.5  SCORE_1  SCORE_2 WINNER  \n",
      "0   Stephon Castle  Chris Paul        0        0    SAS  \n",
      "2   Stephon Castle  Chris Paul        0        2    SAS  \n",
      "3   Stephon Castle  Chris Paul        3        2    SAS  \n",
      "4   Stephon Castle  Chris Paul        3        5    SAS  \n",
      "21  Stephon Castle  Chris Paul        5        5    SAS  \n",
      "     GAME_ID  SCOREMARGIN  TIME_REMAINING  PERIOD TEAM_1 TEAM_2  \\\n",
      "0   22400243            0               0       1    UTA    LAC   \n",
      "3   22400243           -2              31       1    UTA    LAC   \n",
      "6   22400243           -4              57       1    UTA    LAC   \n",
      "8   22400243           -7              82       1    UTA    LAC   \n",
      "10  22400243          -10              99       1    UTA    LAC   \n",
      "\n",
      "         PLAYER_1.1       PLAYER_1.2    PLAYER_1.3     PLAYER_1.4  \\\n",
      "0   Lauri Markkanen  Kyle Filipowski  John Collins  Collin Sexton   \n",
      "3   Lauri Markkanen  Kyle Filipowski  John Collins  Collin Sexton   \n",
      "6   Lauri Markkanen  Kyle Filipowski  John Collins  Collin Sexton   \n",
      "8   Lauri Markkanen  Kyle Filipowski  John Collins  Collin Sexton   \n",
      "10  Lauri Markkanen  Kyle Filipowski  John Collins  Collin Sexton   \n",
      "\n",
      "        PLAYER_1.5     PLAYER_2.1         PLAYER_2.2   PLAYER_2.3 PLAYER_2.4  \\\n",
      "0   Keyonte George  Norman Powell  Derrick Jones Jr.  Ivica Zubac  Kris Dunn   \n",
      "3   Keyonte George  Norman Powell  Derrick Jones Jr.  Ivica Zubac  Kris Dunn   \n",
      "6   Keyonte George  Norman Powell  Derrick Jones Jr.  Ivica Zubac  Kris Dunn   \n",
      "8   Keyonte George  Norman Powell  Derrick Jones Jr.  Ivica Zubac  Kris Dunn   \n",
      "10  Keyonte George  Norman Powell  Derrick Jones Jr.  Ivica Zubac  Kris Dunn   \n",
      "\n",
      "      PLAYER_2.5  SCORE_1  SCORE_2 WINNER  \n",
      "0   James Harden        0        0    LAC  \n",
      "3   James Harden        0        2    LAC  \n",
      "6   James Harden        0        4    LAC  \n",
      "8   James Harden        0        7    LAC  \n",
      "10  James Harden        0       10    LAC  \n",
      "   Unnamed: 0                   Player TEAM       PPI\n",
      "0           0              Luka Dončić  DAL  2.176800\n",
      "1           1    Giannis Antetokounmpo  MIL  2.015625\n",
      "2           2  Shai Gilgeous-Alexander  OKC  1.994118\n",
      "3           3            Jalen Brunson  NYK  1.720339\n",
      "4           4             Kevin Durant  PHX  1.617473\n"
     ]
    }
   ],
   "source": [
    "import pandas as pd\n",
    "import pickle as pickle\n",
    "\n",
    "# Load the datasets\n",
    "with open('train_set.pkl', 'rb') as file:\n",
    "    train = pickle.load(file)\n",
    "with open('test_set.pkl', 'rb') as file:\n",
    "    test = pickle.load(file)\n",
    "# Merge the list of DataFrames into one large DataFrame\n",
    "train_set = pd.concat(train, ignore_index=True)\n",
    "test_set = pd.concat(test, ignore_index=True)\n",
    "\n",
    "#load ppi_data\n",
    "ppi_data = pd.read_csv('previous_season_ppi.csv')\n",
    "train_set = train_set.drop_duplicates(subset=['GAME_ID', 'SCORE_1', 'SCORE_2'], keep='first')\n",
    "test_set = test_set.drop_duplicates(subset=['GAME_ID', 'SCORE_1', 'SCORE_2'], keep='first')\n",
    "# Check the first few rows of each dataset\n",
    "print(train_set.head())\n",
    "print(test_set.head())\n",
    "print(ppi_data.head())"
   ]
  },
  {
   "cell_type": "markdown",
   "metadata": {},
   "source": [
    "### Tạo từ điển để lấy rating từ tên cầu thủ ###"
   ]
  },
  {
   "cell_type": "code",
   "execution_count": 58,
   "metadata": {},
   "outputs": [],
   "source": [
    "# Assuming 'Player Name' and 'Player Rating' are the relevant columns in ppi_data\n",
    "player_rating_map = dict(zip(ppi_data['Player'], ppi_data['PPI']))\n"
   ]
  },
  {
   "cell_type": "markdown",
   "metadata": {},
   "source": [
    "### Dùng từ điển để thay thế dữ liệu các cột player từ tên người chơi thành rating của người chơi ###"
   ]
  },
  {
   "cell_type": "code",
   "execution_count": 59,
   "metadata": {},
   "outputs": [],
   "source": [
    "# Identify player columns in train_set\n",
    "player_columns = [col for col in train_set.columns if 'PLAYER' in col]\n",
    "\n",
    "# Replace player names with ratings\n",
    "for col in player_columns:\n",
    "    train_set[col] = train_set[col].map(player_rating_map)\n",
    "    \n",
    "# Identify player columns in test_set\n",
    "player_columns = [col for col in test_set.columns if 'PLAYER' in col]\n",
    "\n",
    "# Replace player names with ratings\n",
    "for col in player_columns:\n",
    "    test_set[col] = test_set[col].map(player_rating_map)\n"
   ]
  },
  {
   "cell_type": "markdown",
   "metadata": {},
   "source": [
    "### Điền dữ liệu rating còn thiếu của các cầu thủ không có dữ liệu ###"
   ]
  },
  {
   "cell_type": "code",
   "execution_count": 60,
   "metadata": {},
   "outputs": [
    {
     "data": {
      "text/html": [
       "<div>\n",
       "<style scoped>\n",
       "    .dataframe tbody tr th:only-of-type {\n",
       "        vertical-align: middle;\n",
       "    }\n",
       "\n",
       "    .dataframe tbody tr th {\n",
       "        vertical-align: top;\n",
       "    }\n",
       "\n",
       "    .dataframe thead th {\n",
       "        text-align: right;\n",
       "    }\n",
       "</style>\n",
       "<table border=\"1\" class=\"dataframe\">\n",
       "  <thead>\n",
       "    <tr style=\"text-align: right;\">\n",
       "      <th></th>\n",
       "      <th>GAME_ID</th>\n",
       "      <th>SCOREMARGIN</th>\n",
       "      <th>TIME_REMAINING</th>\n",
       "      <th>PERIOD</th>\n",
       "      <th>TEAM_1</th>\n",
       "      <th>TEAM_2</th>\n",
       "      <th>PLAYER_1.1</th>\n",
       "      <th>PLAYER_1.2</th>\n",
       "      <th>PLAYER_1.3</th>\n",
       "      <th>PLAYER_1.4</th>\n",
       "      <th>PLAYER_1.5</th>\n",
       "      <th>PLAYER_2.1</th>\n",
       "      <th>PLAYER_2.2</th>\n",
       "      <th>PLAYER_2.3</th>\n",
       "      <th>PLAYER_2.4</th>\n",
       "      <th>PLAYER_2.5</th>\n",
       "      <th>SCORE_1</th>\n",
       "      <th>SCORE_2</th>\n",
       "      <th>WINNER</th>\n",
       "    </tr>\n",
       "  </thead>\n",
       "  <tbody>\n",
       "    <tr>\n",
       "      <th>0</th>\n",
       "      <td>22400243</td>\n",
       "      <td>0</td>\n",
       "      <td>0</td>\n",
       "      <td>1</td>\n",
       "      <td>UTA</td>\n",
       "      <td>LAC</td>\n",
       "      <td>0.75</td>\n",
       "      <td>0.75</td>\n",
       "      <td>1.369643</td>\n",
       "      <td>1.52406</td>\n",
       "      <td>1.090741</td>\n",
       "      <td>1.158779</td>\n",
       "      <td>0.925532</td>\n",
       "      <td>1.246591</td>\n",
       "      <td>0.973545</td>\n",
       "      <td>1.390087</td>\n",
       "      <td>0</td>\n",
       "      <td>0</td>\n",
       "      <td>LAC</td>\n",
       "    </tr>\n",
       "    <tr>\n",
       "      <th>3</th>\n",
       "      <td>22400243</td>\n",
       "      <td>-2</td>\n",
       "      <td>31</td>\n",
       "      <td>1</td>\n",
       "      <td>UTA</td>\n",
       "      <td>LAC</td>\n",
       "      <td>0.75</td>\n",
       "      <td>0.75</td>\n",
       "      <td>1.369643</td>\n",
       "      <td>1.52406</td>\n",
       "      <td>1.090741</td>\n",
       "      <td>1.158779</td>\n",
       "      <td>0.925532</td>\n",
       "      <td>1.246591</td>\n",
       "      <td>0.973545</td>\n",
       "      <td>1.390087</td>\n",
       "      <td>0</td>\n",
       "      <td>2</td>\n",
       "      <td>LAC</td>\n",
       "    </tr>\n",
       "    <tr>\n",
       "      <th>6</th>\n",
       "      <td>22400243</td>\n",
       "      <td>-4</td>\n",
       "      <td>57</td>\n",
       "      <td>1</td>\n",
       "      <td>UTA</td>\n",
       "      <td>LAC</td>\n",
       "      <td>0.75</td>\n",
       "      <td>0.75</td>\n",
       "      <td>1.369643</td>\n",
       "      <td>1.52406</td>\n",
       "      <td>1.090741</td>\n",
       "      <td>1.158779</td>\n",
       "      <td>0.925532</td>\n",
       "      <td>1.246591</td>\n",
       "      <td>0.973545</td>\n",
       "      <td>1.390087</td>\n",
       "      <td>0</td>\n",
       "      <td>4</td>\n",
       "      <td>LAC</td>\n",
       "    </tr>\n",
       "    <tr>\n",
       "      <th>8</th>\n",
       "      <td>22400243</td>\n",
       "      <td>-7</td>\n",
       "      <td>82</td>\n",
       "      <td>1</td>\n",
       "      <td>UTA</td>\n",
       "      <td>LAC</td>\n",
       "      <td>0.75</td>\n",
       "      <td>0.75</td>\n",
       "      <td>1.369643</td>\n",
       "      <td>1.52406</td>\n",
       "      <td>1.090741</td>\n",
       "      <td>1.158779</td>\n",
       "      <td>0.925532</td>\n",
       "      <td>1.246591</td>\n",
       "      <td>0.973545</td>\n",
       "      <td>1.390087</td>\n",
       "      <td>0</td>\n",
       "      <td>7</td>\n",
       "      <td>LAC</td>\n",
       "    </tr>\n",
       "    <tr>\n",
       "      <th>10</th>\n",
       "      <td>22400243</td>\n",
       "      <td>-10</td>\n",
       "      <td>99</td>\n",
       "      <td>1</td>\n",
       "      <td>UTA</td>\n",
       "      <td>LAC</td>\n",
       "      <td>0.75</td>\n",
       "      <td>0.75</td>\n",
       "      <td>1.369643</td>\n",
       "      <td>1.52406</td>\n",
       "      <td>1.090741</td>\n",
       "      <td>1.158779</td>\n",
       "      <td>0.925532</td>\n",
       "      <td>1.246591</td>\n",
       "      <td>0.973545</td>\n",
       "      <td>1.390087</td>\n",
       "      <td>0</td>\n",
       "      <td>10</td>\n",
       "      <td>LAC</td>\n",
       "    </tr>\n",
       "  </tbody>\n",
       "</table>\n",
       "</div>"
      ],
      "text/plain": [
       "     GAME_ID  SCOREMARGIN  TIME_REMAINING  PERIOD TEAM_1 TEAM_2  PLAYER_1.1  \\\n",
       "0   22400243            0               0       1    UTA    LAC        0.75   \n",
       "3   22400243           -2              31       1    UTA    LAC        0.75   \n",
       "6   22400243           -4              57       1    UTA    LAC        0.75   \n",
       "8   22400243           -7              82       1    UTA    LAC        0.75   \n",
       "10  22400243          -10              99       1    UTA    LAC        0.75   \n",
       "\n",
       "    PLAYER_1.2  PLAYER_1.3  PLAYER_1.4  PLAYER_1.5  PLAYER_2.1  PLAYER_2.2  \\\n",
       "0         0.75    1.369643     1.52406    1.090741    1.158779    0.925532   \n",
       "3         0.75    1.369643     1.52406    1.090741    1.158779    0.925532   \n",
       "6         0.75    1.369643     1.52406    1.090741    1.158779    0.925532   \n",
       "8         0.75    1.369643     1.52406    1.090741    1.158779    0.925532   \n",
       "10        0.75    1.369643     1.52406    1.090741    1.158779    0.925532   \n",
       "\n",
       "    PLAYER_2.3  PLAYER_2.4  PLAYER_2.5  SCORE_1  SCORE_2 WINNER  \n",
       "0     1.246591    0.973545    1.390087        0        0    LAC  \n",
       "3     1.246591    0.973545    1.390087        0        2    LAC  \n",
       "6     1.246591    0.973545    1.390087        0        4    LAC  \n",
       "8     1.246591    0.973545    1.390087        0        7    LAC  \n",
       "10    1.246591    0.973545    1.390087        0       10    LAC  "
      ]
     },
     "execution_count": 60,
     "metadata": {},
     "output_type": "execute_result"
    }
   ],
   "source": [
    "# Replace missing ratings with a default value, e.g., 0\n",
    "train_set[player_columns] = train_set[player_columns].fillna(0.75)\n",
    "train_set.head()\n",
    "# Replace missing ratings with a default value, e.g., 0\n",
    "test_set[player_columns] = test_set[player_columns].fillna(0.75)\n",
    "test_set.head()"
   ]
  },
  {
   "cell_type": "markdown",
   "metadata": {},
   "source": [
    "### Thêm cột TARGET cho mô hình bằng cách so sánh các chuỗi ###"
   ]
  },
  {
   "cell_type": "code",
   "execution_count": 61,
   "metadata": {},
   "outputs": [],
   "source": [
    "# Add a new column to indicate whether TEAM_1 is the winner\n",
    "train_set['TEAM_1_WIN'] = (train_set['WINNER'] == train_set['TEAM_1']).astype(int)\n",
    "test_set['TEAM_1_WIN'] = (test_set['WINNER'] == test_set['TEAM_1']).astype(int)"
   ]
  },
  {
   "cell_type": "markdown",
   "metadata": {},
   "source": [
    "### Chuyển các cột WINNER, TEAM_1, TEAM_2 về dạng chuỗi ###"
   ]
  },
  {
   "cell_type": "code",
   "execution_count": 62,
   "metadata": {},
   "outputs": [
    {
     "name": "stdout",
     "output_type": "stream",
     "text": [
      "GAME_ID             int64\n",
      "SCOREMARGIN         int64\n",
      "TIME_REMAINING      int64\n",
      "PERIOD              int64\n",
      "TEAM_1             object\n",
      "TEAM_2             object\n",
      "PLAYER_1.1        float64\n",
      "PLAYER_1.2        float64\n",
      "PLAYER_1.3        float64\n",
      "PLAYER_1.4        float64\n",
      "PLAYER_1.5        float64\n",
      "PLAYER_2.1        float64\n",
      "PLAYER_2.2        float64\n",
      "PLAYER_2.3        float64\n",
      "PLAYER_2.4        float64\n",
      "PLAYER_2.5        float64\n",
      "SCORE_1             int64\n",
      "SCORE_2             int64\n",
      "WINNER             object\n",
      "TEAM_1_WIN          int32\n",
      "dtype: object\n"
     ]
    }
   ],
   "source": [
    "# Change the data types of WINNER, TEAM_1, and TEAM_2 to string\n",
    "columns_to_convert = ['WINNER', 'TEAM_1', 'TEAM_2']\n",
    "train_set[columns_to_convert] = train_set[columns_to_convert].astype(str)\n",
    "test_set[columns_to_convert] = test_set[columns_to_convert].astype(str)\n",
    "print(train_set.dtypes)"
   ]
  },
  {
   "cell_type": "markdown",
   "metadata": {},
   "source": [
    "### Sắp xếp rating của người chơi trong 1 đội từ cao đến thấp để đảm bảo có thể tìm thấy các quy luật ẩn ###"
   ]
  },
  {
   "cell_type": "code",
   "execution_count": 63,
   "metadata": {},
   "outputs": [
    {
     "name": "stdout",
     "output_type": "stream",
     "text": [
      "     GAME_ID  SCOREMARGIN  TIME_REMAINING  PERIOD TEAM_1 TEAM_2  PLAYER_1.1  \\\n",
      "0   22400025            0               0       1    OKC    SAS    1.994118   \n",
      "2   22400025           -2              25       1    OKC    SAS    1.994118   \n",
      "3   22400025            1              35       1    OKC    SAS    1.994118   \n",
      "4   22400025           -2              48       1    OKC    SAS    1.994118   \n",
      "21  22400025            0             172       1    OKC    SAS    1.994118   \n",
      "\n",
      "    PLAYER_1.2  PLAYER_1.3  PLAYER_1.4  PLAYER_1.5  PLAYER_2.1  PLAYER_2.2  \\\n",
      "0     1.400958    1.101274     0.97993    0.929612    1.282353    1.136742   \n",
      "2     1.400958    1.101274     0.97993    0.929612    1.282353    1.136742   \n",
      "3     1.400958    1.101274     0.97993    0.929612    1.282353    1.136742   \n",
      "4     1.400958    1.101274     0.97993    0.929612    1.282353    1.136742   \n",
      "21    1.400958    1.101274     0.97993    0.929612    1.282353    1.136742   \n",
      "\n",
      "    PLAYER_2.3  PLAYER_2.4  PLAYER_2.5  SCORE_1  SCORE_2 WINNER  TEAM_1_WIN  \n",
      "0     0.962626    0.953103        0.75        0        0    SAS           0  \n",
      "2     0.962626    0.953103        0.75        0        2    SAS           0  \n",
      "3     0.962626    0.953103        0.75        3        2    SAS           0  \n",
      "4     0.962626    0.953103        0.75        3        5    SAS           0  \n",
      "21    0.962626    0.953103        0.75        5        5    SAS           0  \n"
     ]
    }
   ],
   "source": [
    "# Sort the player ratings for PLAYER_1 and PLAYER_2 in each row (from highest to lowest)\n",
    "train_set[['PLAYER_1.1', 'PLAYER_1.2', 'PLAYER_1.3', 'PLAYER_1.4', 'PLAYER_1.5']] = train_set[['PLAYER_1.1', 'PLAYER_1.2', 'PLAYER_1.3', 'PLAYER_1.4', 'PLAYER_1.5']].apply(lambda x: pd.Series(sorted(x, reverse=True)), axis=1)\n",
    "train_set[['PLAYER_2.1', 'PLAYER_2.2', 'PLAYER_2.3', 'PLAYER_2.4', 'PLAYER_2.5']] = train_set[['PLAYER_2.1', 'PLAYER_2.2', 'PLAYER_2.3', 'PLAYER_2.4', 'PLAYER_2.5']].apply(lambda x: pd.Series(sorted(x, reverse=True)), axis=1)\n",
    "\n",
    "test_set[['PLAYER_1.1', 'PLAYER_1.2', 'PLAYER_1.3', 'PLAYER_1.4', 'PLAYER_1.5']] = test_set[['PLAYER_1.1', 'PLAYER_1.2', 'PLAYER_1.3', 'PLAYER_1.4', 'PLAYER_1.5']].apply(lambda x: pd.Series(sorted(x, reverse=True)), axis=1)\n",
    "test_set[['PLAYER_2.1', 'PLAYER_2.2', 'PLAYER_2.3', 'PLAYER_2.4', 'PLAYER_2.5']] = test_set[['PLAYER_2.1', 'PLAYER_2.2', 'PLAYER_2.3', 'PLAYER_2.4', 'PLAYER_2.5']].apply(lambda x: pd.Series(sorted(x, reverse=True)), axis=1)\n",
    "\n",
    "# Show the updated DataFrame\n",
    "print(train_set.head())"
   ]
  },
  {
   "cell_type": "markdown",
   "metadata": {},
   "source": [
    "### Chuẩn bị các thư viện và chia dữ liệu huấn luyện, kiểm thử ra các tập để huấn luyện và kiểm thư riêng ###"
   ]
  },
  {
   "cell_type": "code",
   "execution_count": null,
   "metadata": {},
   "outputs": [
    {
     "name": "stdout",
     "output_type": "stream",
     "text": [
      "Fitting 3 folds for each of 50 candidates, totalling 150 fits\n",
      "Fitting 3 folds for each of 50 candidates, totalling 150 fits\n",
      "Fitting 3 folds for each of 50 candidates, totalling 150 fits\n",
      "Aggregated Random Search Results:\n",
      "   subsample  reg_lambda  reg_alpha  n_estimators  max_depth  learning_rate  \\\n",
      "0        0.7          10         10           200          3          0.010   \n",
      "1        0.7           1          0          1400          3          0.001   \n",
      "2        0.8           0         10           800          6          0.001   \n",
      "\n",
      "   colsample_bytree  \n",
      "0               1.0  \n",
      "1               1.0  \n",
      "2               0.7  \n"
     ]
    }
   ],
   "source": [
    "import pandas as pd\n",
    "import numpy as np\n",
    "from sklearn.model_selection import train_test_split, RandomizedSearchCV, GridSearchCV, cross_val_score\n",
    "from sklearn.preprocessing import StandardScaler, LabelEncoder\n",
    "from sklearn.metrics import accuracy_score, roc_auc_score\n",
    "import xgboost as xgb\n",
    "import matplotlib.pyplot as plt\n",
    "\n",
    "# Load features and target\n",
    "X_train = train_set.drop(columns=[\"TEAM_1_WIN\", \"WINNER\", \"GAME_ID\"])  # Replace \"TARGET\" with your target column name\n",
    "y_train = train_set[\"TEAM_1_WIN\"]\n",
    "\n",
    "X_test = test_set.drop(columns=[\"TEAM_1_WIN\", \"WINNER\", \"GAME_ID\"])  # Replace \"TARGET\" with your target column name\n",
    "y_test = test_set[\"TEAM_1_WIN\"]\n"
   ]
  },
  {
   "cell_type": "markdown",
   "metadata": {},
   "source": [
    "### Tách các thuộc tính của dữ liệu thành numerical và categorical ###"
   ]
  },
  {
   "cell_type": "code",
   "execution_count": null,
   "metadata": {},
   "outputs": [],
   "source": [
    "# Preprocessing\n",
    "numerical_cols = [\n",
    "    'SCOREMARGIN', 'TIME_REMAINING', 'PERIOD', 'PLAYER_1.1', 'PLAYER_1.2', \n",
    "    'PLAYER_1.3', 'PLAYER_1.4', 'PLAYER_1.5', 'PLAYER_2.1', 'PLAYER_2.2', \n",
    "    'PLAYER_2.3', 'PLAYER_2.4', 'PLAYER_2.5'  # Numerical feature names\n",
    "]\n",
    "categorical_cols = [\"TEAM_1\", \"TEAM_2\"]"
   ]
  },
  {
   "cell_type": "code",
   "execution_count": null,
   "metadata": {},
   "outputs": [],
   "source": [
    "# Scale numerical features\n",
    "scaler = StandardScaler()\n",
    "X_train[numerical_cols] = scaler.fit_transform(X_train[numerical_cols])\n",
    "X_test[numerical_cols] = scaler.transform(X_test[numerical_cols])"
   ]
  },
  {
   "cell_type": "code",
   "execution_count": null,
   "metadata": {},
   "outputs": [],
   "source": [
    "# Encode categorical features\n",
    "label_encoders = {}\n",
    "for col in categorical_cols:\n",
    "    le = LabelEncoder()\n",
    "    X_train[col] = le.fit_transform(X_train[col])\n",
    "    X_test[col] = le.transform(X_test[col])\n",
    "    label_encoders[col] = le"
   ]
  },
  {
   "cell_type": "code",
   "execution_count": null,
   "metadata": {},
   "outputs": [],
   "source": [
    "# Define the hyperparameter grid for RandomizedSearchCV\n",
    "param_dist = {\n",
    "    'n_estimators': np.arange(100, 2000, 100),\n",
    "    'learning_rate': [0.0001, 0.001, 0.01, 0.05, 0.1],\n",
    "    'max_depth': [3, 6, 10, 20],\n",
    "    'subsample': [0.7, 0.8, 1.0],\n",
    "    'colsample_bytree': [0.7, 0.8, 1.0],\n",
    "    'reg_alpha': [0, 1, 10],\n",
    "    'reg_lambda': [0, 1, 10]\n",
    "}"
   ]
  },
  {
   "cell_type": "markdown",
   "metadata": {},
   "source": [
    "## Triển khai mô hình XGBoost với hàm mất mát là hàm Logistic ##"
   ]
  },
  {
   "cell_type": "markdown",
   "metadata": {},
   "source": [
    "### Khởi tạo mô hình và triển khai random_search để tìm các bộ hyperparameters có tiềm năng ###"
   ]
  },
  {
   "cell_type": "code",
   "execution_count": null,
   "metadata": {},
   "outputs": [],
   "source": [
    "\n",
    "# Initialize XGBoost model\n",
    "model = xgb.XGBClassifier(\n",
    "    objective=\"binary:logistic\",\n",
    "    eval_metric=\"logloss\",\n",
    "    random_state=42\n",
    ")\n",
    "\n",
    "# Run RandomizedSearchCV three times with different random seeds\n",
    "random_search_results = []\n",
    "for i in range(3):\n",
    "    random_search = RandomizedSearchCV(\n",
    "        estimator=model,\n",
    "        param_distributions=param_dist,\n",
    "        scoring=\"accuracy\",\n",
    "        cv=3,\n",
    "        n_jobs=-1,\n",
    "        verbose=1,\n",
    "        n_iter=50,\n",
    "        random_state=i\n",
    "    )\n",
    "    random_search.fit(X_train, y_train)\n",
    "    random_search_results.append(random_search.best_params_)\n",
    "\n",
    "# Aggregate the best parameters from all random searches\n",
    "aggregated_results = pd.DataFrame(random_search_results)\n",
    "print(\"Aggregated Random Search Results:\")\n",
    "print(aggregated_results)\n",
    "\n"
   ]
  },
  {
   "cell_type": "markdown",
   "metadata": {},
   "source": [
    "### Từ các bộ Hyperparameter tiềm năng, ta dùng gridsearch để tìm xem bộ Hyperparameter nào là tối ưu nhất ###"
   ]
  },
  {
   "cell_type": "code",
   "execution_count": null,
   "metadata": {},
   "outputs": [
    {
     "name": "stdout",
     "output_type": "stream",
     "text": [
      "Fitting 3 folds for each of 2187 candidates, totalling 6561 fits\n",
      "Best Parameters from Grid Search: {'colsample_bytree': 0.9, 'learning_rate': 0.01, 'max_depth': 2, 'n_estimators': 200, 'reg_alpha': 10, 'reg_lambda': 0, 'subsample': 0.6}\n"
     ]
    }
   ],
   "source": [
    "# Now run GridSearchCV based on the best parameters from the random search results\n",
    "# Define the grid of hyperparameters to fine-tune further\n",
    "best_params = aggregated_results.mode().iloc[0]  # Use the mode (most frequent values) from the random searches\n",
    "\n",
    "param_grid = {\n",
    "    'n_estimators': [int(best_params['n_estimators'] - 100), \n",
    "                      int(best_params['n_estimators']), \n",
    "                      int(best_params['n_estimators'] + 100)],\n",
    "    'learning_rate': [max(best_params['learning_rate'] - 0.01, 0.01), \n",
    "                      best_params['learning_rate'], \n",
    "                      best_params['learning_rate'] + 0.01],\n",
    "    'max_depth': [max(int(best_params['max_depth'] - 1), 1), \n",
    "                  int(best_params['max_depth']), \n",
    "                  int(best_params['max_depth'] + 1)],\n",
    "    'subsample': [max(best_params['subsample'] - 0.1, 0.1), \n",
    "                  best_params['subsample'], \n",
    "                  min(best_params['subsample'] + 0.1, 1)],\n",
    "    'colsample_bytree': [min(max(best_params['colsample_bytree'] - 0.1, 0.1), 1), \n",
    "                         best_params['colsample_bytree'], \n",
    "                         min(best_params['colsample_bytree'] + 0.1, 1)],\n",
    "    'reg_alpha': [max(int(best_params['reg_alpha'] - 1), 0), \n",
    "                  int(best_params['reg_alpha']), \n",
    "                  int(best_params['reg_alpha'] + 1)],\n",
    "    'reg_lambda': [max(int(best_params['reg_lambda'] - 1), 0), \n",
    "                   int(best_params['reg_lambda']), \n",
    "                   int(best_params['reg_lambda'] + 1)]\n",
    "}\n",
    "\n",
    "\n",
    "\n",
    "# Run GridSearchCV with the fine-tuned grid\n",
    "grid_search = GridSearchCV(\n",
    "    estimator=model,\n",
    "    param_grid=param_grid,\n",
    "    scoring=\"accuracy\",\n",
    "    cv=3,\n",
    "    n_jobs=-1,\n",
    "    verbose=1\n",
    ")\n",
    "\n",
    "# Fit the GridSearchCV\n",
    "grid_search.fit(X_train, y_train)\n",
    "\n",
    "# Best parameters after Grid Search\n",
    "print(f\"Best Parameters from Grid Search: {grid_search.best_params_}\")\n",
    "\n",
    "# Set the best parameters to the model\n",
    "model = grid_search.best_estimator_"
   ]
  },
  {
   "cell_type": "markdown",
   "metadata": {},
   "source": [
    "### Huyến luyện và kiểm thử mô hình bằng các bộ dữ liệu đã được xử lý cũng như các chỉ số như Cross-Validation Accuracy, Accuracy, Error rate, ROC-AUC. Đánh giá và đưa ra giả định về mô hình. ###"
   ]
  },
  {
   "cell_type": "code",
   "execution_count": null,
   "metadata": {},
   "outputs": [
    {
     "name": "stdout",
     "output_type": "stream",
     "text": [
      "Cross-Validation Accuracy Scores: [0.79028545 0.73802947 0.77440147 0.68600368 0.68024862]\n",
      "Mean Cross-Validation Accuracy: 0.7337937384898712\n",
      "Training Accuracy: 0.7893\n",
      "Training Error Rate (E_train): 0.2107\n",
      "Testing Accuracy: 0.7397\n",
      "Testing Error Rate (E_test): 0.2603\n",
      "Training ROC-AUC Score: 0.8613\n",
      "Testing ROC-AUC Score: 0.8165\n",
      "Training Error Rate (E_total): 0.2355\n",
      "    Actual  Predicted   WinRate\n",
      "0        0          0  0.279775\n",
      "2        0          0  0.267201\n",
      "3        0          0  0.293639\n",
      "4        0          0  0.267201\n",
      "21       0          0  0.279775\n",
      "    Actual  Predicted   WinRate\n",
      "0        0          0  0.298181\n",
      "3        0          0  0.270139\n",
      "6        0          0  0.253460\n",
      "8        0          0  0.239842\n",
      "10       0          0  0.191682\n"
     ]
    },
    {
     "data": {
      "text/plain": [
       "<Figure size 1000x800 with 0 Axes>"
      ]
     },
     "metadata": {},
     "output_type": "display_data"
    },
    {
     "data": {
      "image/png": "[encoded data removed]",
      "text/plain": [
       "<Figure size 640x480 with 1 Axes>"
      ]
     },
     "metadata": {},
     "output_type": "display_data"
    }
   ],
   "source": [
    "\n",
    "\n",
    "# Cross-validation scores\n",
    "cv_scores = cross_val_score(model, X_train, y_train, cv=5, scoring='accuracy')\n",
    "print(f\"Cross-Validation Accuracy Scores: {cv_scores}\")\n",
    "print(f\"Mean Cross-Validation Accuracy: {cv_scores.mean()}\")\n",
    "\n",
    "# Predictions and Evaluation on both Train and Test data\n",
    "y_train_pred = model.predict(X_train)  # Training predictions\n",
    "y_train_pred_proba = model.predict_proba(X_train)[:, 1]  # Probability of \"1\" (win rate)\n",
    "\n",
    "y_test_pred = model.predict(X_test)  # Test predictions\n",
    "y_test_pred_proba = model.predict_proba(X_test)[:, 1]  # Probability of \"1\" (win rate)\n",
    "\n",
    "# Calculate Accuracy and Error Rates\n",
    "accuracy_train = accuracy_score(y_train, y_train_pred)\n",
    "error_train_rate = 1 - accuracy_train\n",
    "\n",
    "accuracy_test = accuracy_score(y_test, y_test_pred)\n",
    "error_test_rate = 1 - accuracy_test\n",
    "\n",
    "# Calculate ROC-AUC Score\n",
    "auc_train_score = roc_auc_score(y_train, y_train_pred_proba)\n",
    "auc_test_score = roc_auc_score(y_test, y_test_pred_proba)\n",
    "\n",
    "# Print results\n",
    "print(f\"Training Accuracy: {accuracy_train:.4f}\")\n",
    "print(f\"Training Error Rate (E_train): {error_train_rate:.4f}\")\n",
    "print(f\"Testing Accuracy: {accuracy_test:.4f}\")\n",
    "print(f\"Testing Error Rate (E_test): {error_test_rate:.4f}\")\n",
    "print(f\"Training ROC-AUC Score: {auc_train_score:.4f}\")\n",
    "print(f\"Testing ROC-AUC Score: {auc_test_score:.4f}\")\n",
    "print(f\"Training Error Rate (E_total): {(error_train_rate + error_test_rate)/2 :.4f}\")\n",
    "# Visualization\n",
    "# 1. Plot predictions vs actual for both Train and Test data\n",
    "train_results = pd.DataFrame({\n",
    "    \"Actual\": y_train,\n",
    "    \"Predicted\": y_train_pred,\n",
    "    \"WinRate\": y_train_pred_proba  # Probability of positive class\n",
    "})\n",
    "test_results = pd.DataFrame({\n",
    "    \"Actual\": y_test,\n",
    "    \"Predicted\": y_test_pred,\n",
    "    \"WinRate\": y_test_pred_proba  # Probability of positive class\n",
    "})\n",
    "\n",
    "print(train_results.head())\n",
    "print(test_results.head())\n",
    "# Save results for analysis\n",
    "train_results.to_csv(\"Logistic_train_predictions_with_error_rate.csv\", index=False)\n",
    "test_results.to_csv(\"Logistic_test_predictions_with_error_rate.csv\", index=False)\n",
    "\n",
    "# 2. Plot feature importance\n",
    "plt.figure(figsize=(10, 8))\n",
    "xgb.plot_importance(model, importance_type=\"weight\", max_num_features=10)\n",
    "plt.title(\"Top 10 Feature Importances\")\n",
    "plt.show()\n"
   ]
  },
  {
   "cell_type": "markdown",
   "metadata": {},
   "source": [
    "### Lưu trữ mô hình ###"
   ]
  },
  {
   "cell_type": "code",
   "execution_count": null,
   "metadata": {},
   "outputs": [
    {
     "name": "stderr",
     "output_type": "stream",
     "text": [
      "c:\\Users\\Admin\\AppData\\Local\\Programs\\Python\\Python312\\Lib\\site-packages\\xgboost\\core.py:158: UserWarning: [20:07:34] WARNING: C:\\buildkite-agent\\builds\\buildkite-windows-cpu-autoscaling-group-i-0c55ff5f71b100e98-1\\xgboost\\xgboost-ci-windows\\src\\c_api\\c_api.cc:1374: Saving model in the UBJSON format as default.  You can use file extension: `json`, `ubj` or `deprecated` to choose between formats.\n",
      "  warnings.warn(smsg, UserWarning)\n"
     ]
    }
   ],
   "source": [
    "model.save_model('model_logistic.json')  # Save as JSON\n",
    "model.save_model('model_logistic.bin')   # Save as binary"
   ]
  },
  {
   "cell_type": "markdown",
   "metadata": {},
   "source": [
    "## Triển khai mô hình XGBoost với hàm mất mát là hàm Hinge ##"
   ]
  },
  {
   "cell_type": "markdown",
   "metadata": {},
   "source": [
    "### Khởi tạo mô hình và triển khai random_search để tìm các bộ hyperparameters có tiềm năng ###"
   ]
  },
  {
   "cell_type": "code",
   "execution_count": null,
   "metadata": {},
   "outputs": [],
   "source": [
    "# Initialize XGBoost model with hinge loss\n",
    "model = xgb.XGBClassifier(\n",
    "    objective=\"binary:hinge\",  # Change objective to hinge\n",
    "    eval_metric=\"logloss\",     # You can still use logloss for evaluation\n",
    "    random_state=42\n",
    ")\n",
    "\n",
    "# Run RandomizedSearchCV three times with different random seeds\n",
    "random_search_results = []\n",
    "for i in range(3):\n",
    "    random_search = RandomizedSearchCV(\n",
    "        estimator=model,\n",
    "        param_distributions=param_dist,\n",
    "        scoring=\"accuracy\",\n",
    "        cv=3,\n",
    "        n_jobs=-1,\n",
    "        verbose=1,\n",
    "        n_iter=50,\n",
    "        random_state=i\n",
    "    )\n",
    "    random_search.fit(X_train, y_train)\n",
    "    random_search_results.append(random_search.best_params_)\n",
    "\n",
    "# Aggregate the best parameters from all random searches\n",
    "aggregated_results = pd.DataFrame(random_search_results)\n",
    "print(\"Aggregated Random Search Results:\")\n",
    "print(aggregated_results)"
   ]
  },
  {
   "cell_type": "markdown",
   "metadata": {},
   "source": [
    "### Từ các bộ Hyperparameter tiềm năng, ta dùng gridsearch để tìm xem bộ Hyperparameter nào là tối ưu nhất ###"
   ]
  },
  {
   "cell_type": "code",
   "execution_count": null,
   "metadata": {},
   "outputs": [],
   "source": [
    "# Now run GridSearchCV based on the best parameters from the random search results\n",
    "# Define the grid of hyperparameters to fine-tune further\n",
    "best_params = aggregated_results.mode().iloc[0]  # Use the mode (most frequent values) from the random searches\n",
    "\n",
    "param_grid = {\n",
    "    'n_estimators': [int(best_params['n_estimators'] - 100), \n",
    "                      int(best_params['n_estimators']), \n",
    "                      int(best_params['n_estimators'] + 100)],\n",
    "    'learning_rate': [max(best_params['learning_rate'] - 0.01, 0.01), \n",
    "                      best_params['learning_rate'], \n",
    "                      best_params['learning_rate'] + 0.01],\n",
    "    'max_depth': [max(int(best_params['max_depth'] - 1), 1), \n",
    "                  int(best_params['max_depth']), \n",
    "                  int(best_params['max_depth'] + 1)],\n",
    "    'subsample': [max(best_params['subsample'] - 0.1, 0.1), \n",
    "                  best_params['subsample'], \n",
    "                  min(best_params['subsample'] + 0.1, 1)],\n",
    "    'colsample_bytree': [min(max(best_params['colsample_bytree'] - 0.1, 0.1), 1), \n",
    "                         best_params['colsample_bytree'], \n",
    "                         min(best_params['colsample_bytree'] + 0.1, 1)],\n",
    "    'reg_alpha': [max(int(best_params['reg_alpha'] - 1), 0), \n",
    "                  int(best_params['reg_alpha']), \n",
    "                  int(best_params['reg_alpha'] + 1)],\n",
    "    'reg_lambda': [max(int(best_params['reg_lambda'] - 1), 0), \n",
    "                   int(best_params['reg_lambda']), \n",
    "                   int(best_params['reg_lambda'] + 1)]\n",
    "}\n",
    "\n",
    "# Run GridSearchCV with the fine-tuned grid\n",
    "grid_search = GridSearchCV(\n",
    "    estimator=model,\n",
    "    param_grid=param_grid,\n",
    "    scoring=\"accuracy\",\n",
    "    cv=3,\n",
    "    n_jobs=-1,\n",
    "    verbose=1\n",
    ")\n",
    "\n",
    "# Fit the GridSearchCV\n",
    "grid_search.fit(X_train, y_train)\n",
    "\n",
    "# Best parameters after Grid Search\n",
    "print(f\"Best Parameters from Grid Search: {grid_search.best_params_}\")\n",
    "\n",
    "# Set the best parameters to the model\n",
    "model = grid_search.best_estimator_"
   ]
  },
  {
   "cell_type": "markdown",
   "metadata": {},
   "source": [
    "### Huyến luyện và kiểm thử mô hình bằng các bộ dữ liệu đã được xử lý cũng như các chỉ số như Cross-Validation Accuracy, Accuracy, Error rate, ROC-AUC. Đánh giá và đưa ra giả định về mô hình. ###"
   ]
  },
  {
   "cell_type": "code",
   "execution_count": null,
   "metadata": {},
   "outputs": [],
   "source": [
    "# Cross-validation scores\n",
    "cv_scores = cross_val_score(model, X_train, y_train, cv=5, scoring='accuracy')\n",
    "print(f\"Cross-Validation Accuracy Scores: {cv_scores}\")\n",
    "print(f\"Mean Cross-Validation Accuracy: {cv_scores.mean()}\")\n",
    "\n",
    "# Predictions and Evaluation on both Train and Test data\n",
    "y_train_pred = model.predict(X_train)  # Training predictions\n",
    "y_test_pred = model.predict(X_test)  # Test predictions\n",
    "\n",
    "# Calculate Accuracy and Error Rates\n",
    "accuracy_train = accuracy_score(y_train, y_train_pred)\n",
    "error_train_rate = 1 - accuracy_train\n",
    "\n",
    "accuracy_test = accuracy_score(y_test, y_test_pred)\n",
    "error_test_rate = 1 - accuracy_test\n",
    "\n",
    "# Calculate ROC-AUC Score\n",
    "auc_train_score = roc_auc_score(y_train, y_train_pred)\n",
    "auc_test_score = roc_auc_score(y_test, y_test_pred)\n",
    "\n",
    "# Print results\n",
    "print(f\"Training Accuracy: {accuracy_train:.4f}\")\n",
    "print(f\"Training Error Rate (E_train): {error_train_rate:.4f}\")\n",
    "print(f\"Testing Accuracy: {accuracy_test:.4f}\")\n",
    "print(f\"Testing Error Rate (E_test): {error_test_rate:.4f}\")\n",
    "print(f\"Training ROC-AUC Score: {auc_train_score:.4f}\")\n",
    "print(f\"Testing ROC-AUC Score: {auc_test_score:.4f}\")\n",
    "print(f\"Training Error Rate (E_total): {(error_train_rate + error_test_rate)/2 :.4f}\")\n",
    "\n",
    "# Visualization\n",
    "# 1. Plot predictions vs actual for both Train and Test data\n",
    "train_results = pd.DataFrame({\n",
    "    \"Actual\": y_train,\n",
    "    \"Predicted\": y_train_pred,\n",
    "    \"WinRate\": y_train_pred  # Direct class predictions (hinge loss)\n",
    "})\n",
    "test_results = pd.DataFrame({\n",
    "    \"Actual\": y_test,\n",
    "    \"Predicted\": y_test_pred,\n",
    "    \"WinRate\": y_test_pred  # Direct class predictions (hinge loss)\n",
    "})\n",
    "\n",
    "print(train_results.head())\n",
    "print(test_results.head())\n",
    "\n",
    "# Save results for analysis\n",
    "train_results.to_csv(\"Hinge_train_predictions_with_error_rate.csv\", index=False)\n",
    "test_results.to_csv(\"Hinge_test_predictions_with_error_rate.csv\", index=False)\n",
    "\n",
    "# 2. Plot feature importance\n",
    "plt.figure(figsize=(10, 8))\n",
    "xgb.plot_importance(model, importance_type=\"weight\", max_num_features=10)\n",
    "plt.title(\"Top 10 Feature Importances\")\n",
    "plt.show()"
   ]
  },
  {
   "cell_type": "markdown",
   "metadata": {},
   "source": [
    "### Lưu trữ mô hình ###"
   ]
  },
  {
   "cell_type": "code",
   "execution_count": null,
   "metadata": {},
   "outputs": [],
   "source": [
    "model.save_model('model_hinge.json')  # Save as JSON\n",
    "model.save_model('model_hinge.bin')   # Save as binary"
   ]
  }
 ],
 "metadata": {
  "kernelspec": {
   "display_name": "Python 3",
   "language": "python",
   "name": "python3"
  },
  "language_info": {
   "codemirror_mode": {
    "name": "ipython",
    "version": 3
   },
   "file_extension": ".py",
   "mimetype": "text/x-python",
   "name": "python",
   "nbconvert_exporter": "python",
   "pygments_lexer": "ipython3",
   "version": "3.12.2"
  }
 },
 "nbformat": 4,
 "nbformat_minor": 2
}
